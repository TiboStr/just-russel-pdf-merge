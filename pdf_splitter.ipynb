{
 "cells": [
  {
   "cell_type": "code",
   "execution_count": 14,
   "metadata": {},
   "outputs": [],
   "source": [
    "import fitz  # PyMuPDF\n",
    "import re\n",
    "import os"
   ]
  },
  {
   "cell_type": "code",
   "execution_count": 36,
   "metadata": {},
   "outputs": [
    {
     "name": "stdout",
     "output_type": "stream",
     "text": [
      "Found pattern: 538832-----639991\n",
      "Found pattern: 222319-----261379\n",
      "Saved booklet '538832-----639991' with 1 pages.\n",
      "Found pattern: 222319-----261386\n",
      "Saved booklet '222319-----261379' with 1 pages.\n",
      "Found pattern: 164543-----194786\n",
      "Saved booklet '222319-----261386' with 1 pages.\n",
      "Found pattern: 500728-----595799\n",
      "Saved booklet '164543-----194786' with 1 pages.\n",
      "Found pattern: 559443-----664007\n",
      "Saved booklet '500728-----595799' with 1 pages.\n",
      "Found pattern: 515352-----612820\n",
      "Saved booklet '559443-----664007' with 1 pages.\n",
      "Found pattern: 262305-----307190\n",
      "Saved booklet '515352-----612820' with 1 pages.\n",
      "Saved booklet '262305-----307190' with 1 pages.\n"
     ]
    }
   ],
   "source": [
    "import fitz  # PyMuPDF\n",
    "import re\n",
    "import os\n",
    "\n",
    "def split_pdf_based_on_pattern(input_pdf_path, output_directory, pattern):\n",
    "    # Open the input PDF using fitz\n",
    "    doc = fitz.open(input_pdf_path)\n",
    "    total_pages = doc.page_count\n",
    "    \n",
    "    # Regex pattern to detect the booklet start (e.g., '8392932-----238932')\n",
    "    booklet_start_pattern = re.compile(pattern)\n",
    "\n",
    "    # Initialize variables\n",
    "    current_booklet_pages = []\n",
    "    current_booklet_name = None\n",
    "\n",
    "    # Ensure output directory exists\n",
    "    os.makedirs(output_directory, exist_ok=True)\n",
    "\n",
    "    def save_booklet(pages, booklet_name):\n",
    "        if not pages:\n",
    "            return\n",
    "        # Create a new PDF\n",
    "        new_pdf = fitz.open()\n",
    "        for page_num in pages:\n",
    "            new_pdf.insert_pdf(doc, from_page=page_num, to_page=page_num)\n",
    "        \n",
    "        # Sanitize the booklet name for filenames\n",
    "        sanitized_name = re.sub(r'[<>:\"/\\\\|?*]', '_', booklet_name)\n",
    "        output_pdf_path = os.path.join(output_directory, f\"{sanitized_name}.pdf\")\n",
    "        new_pdf.save(output_pdf_path)\n",
    "        new_pdf.close()  # Close the new PDF to free resources\n",
    "        print(f\"Saved booklet '{sanitized_name}' with {len(pages)} pages.\")\n",
    "\n",
    "    # Iterate through all the pages in the PDF\n",
    "    for i in range(total_pages):\n",
    "        page = doc.load_page(i)\n",
    "        text = page.get_text()\n",
    "\n",
    "        # Check if the page contains the booklet start pattern\n",
    "        match = booklet_start_pattern.search(text)\n",
    "        if match:\n",
    "            # Print the matched pattern\n",
    "            print(f\"Found pattern: {match.group()}\")\n",
    "            \n",
    "            # If we already have some pages collected, save the current booklet\n",
    "            if current_booklet_pages and current_booklet_name:\n",
    "                save_booklet(current_booklet_pages, current_booklet_name)\n",
    "                current_booklet_pages = []\n",
    "            \n",
    "            # Update current booklet name based on the matched pattern\n",
    "            current_booklet_name = match.group().strip()\n",
    "        \n",
    "        # Add the current page to the booklet\n",
    "        current_booklet_pages.append(i)\n",
    "    \n",
    "    # Save the last booklet (if any)\n",
    "    if current_booklet_pages and current_booklet_name:\n",
    "        save_booklet(current_booklet_pages, current_booklet_name)\n",
    "    \n",
    "    doc.close()  # Close the main PDF to free resources\n",
    "\n",
    "# Example usage\n",
    "input_pdf_path = \"C:/Users/dewae/Documents/jr-boekje/tibo/output/2024_09_18_15_34_53/Xmpie-Feedingplan-booklet-050924 copy4.pdf\"\n",
    "output_directory = \"C:/Users/dewae/Documents/jr-boekje/tibo/output/2024_09_18_15_34_53/test\"\n",
    "pattern = r\"\\d+-----\\d+\"  # Regex for the pattern e.g., '8392932-----238932'\n",
    "\n",
    "split_pdf_based_on_pattern(input_pdf_path, output_directory, pattern)\n"
   ]
  }
 ],
 "metadata": {
  "kernelspec": {
   "display_name": "base",
   "language": "python",
   "name": "python3"
  },
  "language_info": {
   "codemirror_mode": {
    "name": "ipython",
    "version": 3
   },
   "file_extension": ".py",
   "mimetype": "text/x-python",
   "name": "python",
   "nbconvert_exporter": "python",
   "pygments_lexer": "ipython3",
   "version": "3.12.2"
  }
 },
 "nbformat": 4,
 "nbformat_minor": 2
}
